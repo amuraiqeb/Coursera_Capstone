{
 "cells": [
  {
   "cell_type": "markdown",
   "id": "bulgarian-belgium",
   "metadata": {},
   "source": [
    "## Project 1 - Capsotone Project Course\n",
    "\n",
    "__This notebook will be mainly used for the capstone project.__\n",
    "\n",
    "---\n",
    "\n",
    "First we import the required libraries: <code>Numpy</code> and <code>Pandas</code>"
   ]
  },
  {
   "cell_type": "code",
   "execution_count": 1,
   "id": "intelligent-partnership",
   "metadata": {},
   "outputs": [
    {
     "name": "stdout",
     "output_type": "stream",
     "text": [
      "Numpy and Pandas successfully imported!\n"
     ]
    }
   ],
   "source": [
    "import numpy as np\n",
    "import pandas as pd\n",
    "\n",
    "\n",
    "print(\"Numpy and Pandas successfully imported!\")"
   ]
  },
  {
   "cell_type": "code",
   "execution_count": 2,
   "id": "hourly-framing",
   "metadata": {},
   "outputs": [
    {
     "name": "stdout",
     "output_type": "stream",
     "text": [
      "Hello Capstone Project Course!\n"
     ]
    }
   ],
   "source": [
    "print('Hello Capstone Project Course!')"
   ]
  },
  {
   "cell_type": "code",
   "execution_count": null,
   "id": "soviet-honor",
   "metadata": {},
   "outputs": [],
   "source": []
  }
 ],
 "metadata": {
  "kernelspec": {
   "display_name": "Python 3",
   "language": "python",
   "name": "python3"
  },
  "language_info": {
   "codemirror_mode": {
    "name": "ipython",
    "version": 3
   },
   "file_extension": ".py",
   "mimetype": "text/x-python",
   "name": "python",
   "nbconvert_exporter": "python",
   "pygments_lexer": "ipython3",
   "version": "3.9.1"
  }
 },
 "nbformat": 4,
 "nbformat_minor": 5
}
