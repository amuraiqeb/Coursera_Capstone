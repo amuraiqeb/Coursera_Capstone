{
 "cells": [
  {
   "cell_type": "code",
   "execution_count": null,
   "id": "noticed-cherry",
   "metadata": {},
   "outputs": [],
   "source": [
    "CLIENT_ID = 'OEIS52KF003ICJX0JJD431KGSXJUSJVI5LCQMFLWFPEQ54BU' # your Foursquare ID\n",
    "CLIENT_SECRET = 'ZKRTMXDRBMXTPIQGTBJIGCUXAY2SRW4WT43OH5KO5V4RRIC5' # your Foursquare Secret\n",
    "VERSION = '20180605' # Foursquare API version\n",
    "LIMIT = 100 # A default Foursquare API limit value\n",
    "\n",
    "print('Your credentails:')\n",
    "print('CLIENT_ID: ' + CLIENT_ID)\n",
    "print('CLIENT_SECRET:' + CLIENT_SECRET)"
   ]
  }
 ],
 "metadata": {
  "kernelspec": {
   "display_name": "Python 3",
   "language": "python",
   "name": "python3"
  },
  "language_info": {
   "codemirror_mode": {
    "name": "ipython",
    "version": 3
   },
   "file_extension": ".py",
   "mimetype": "text/x-python",
   "name": "python",
   "nbconvert_exporter": "python",
   "pygments_lexer": "ipython3",
   "version": "3.9.1"
  }
 },
 "nbformat": 4,
 "nbformat_minor": 5
}
