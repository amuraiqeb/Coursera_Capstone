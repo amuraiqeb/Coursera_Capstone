{
 "cells": [
  {
   "cell_type": "code",
   "execution_count": 1,
   "metadata": {},
   "outputs": [],
   "source": [
    "#!pip install pandas\n",
    "#!pip install requests\n",
    "#!pip install bs4\n",
    "#!pip install plotly"
   ]
  },
  {
   "cell_type": "markdown",
   "metadata": {},
   "source": [
    "## Importing required libraries"
   ]
  },
  {
   "cell_type": "code",
   "execution_count": 2,
   "metadata": {},
   "outputs": [],
   "source": [
    "import pandas as pd\n",
    "import requests\n",
    "from bs4 import BeautifulSoup"
   ]
  },
  {
   "cell_type": "markdown",
   "metadata": {},
   "source": [
    "## Webscrapping \n",
    "We start by scrapping the wikipedia page and prepare the soup "
   ]
  },
  {
   "cell_type": "code",
   "execution_count": 3,
   "metadata": {},
   "outputs": [],
   "source": [
    "url = 'https://en.wikipedia.org/wiki/List_of_postal_codes_of_Canada:_M'"
   ]
  },
  {
   "cell_type": "code",
   "execution_count": 4,
   "metadata": {},
   "outputs": [],
   "source": [
    "html_data = requests.get(url).text"
   ]
  },
  {
   "cell_type": "code",
   "execution_count": 5,
   "metadata": {},
   "outputs": [],
   "source": [
    "soup = BeautifulSoup(html_data, 'html.parser')"
   ]
  },
  {
   "cell_type": "markdown",
   "metadata": {},
   "source": [
    "By navigating the tree page we find that the post code, borough and neighbourhoods are found in the same level of the parse tree"
   ]
  },
  {
   "cell_type": "code",
   "execution_count": 6,
   "metadata": {},
   "outputs": [
    {
     "data": {
      "text/plain": [
       "[<p><b>M1A</b><br/><span style=\"font-size:85%;\"><i>Not assigned</i></span>\n",
       " </p>,\n",
       " <p><b>M2A</b><br/><span style=\"font-size:85%;\"><i>Not assigned</i></span>\n",
       " </p>,\n",
       " <p><b>M3A</b><br/><span style=\"font-size:85%;\"><a href=\"/wiki/North_York\" title=\"North York\">North York</a><br/>(<a href=\"/wiki/Parkwoods\" title=\"Parkwoods\">Parkwoods</a>)</span>\n",
       " </p>,\n",
       " <p><b>M4A</b><br/><span style=\"font-size:85%;\"><a href=\"/wiki/North_York\" title=\"North York\">North York</a><br/>(<a href=\"/wiki/Victoria_Village\" title=\"Victoria Village\">Victoria Village</a>)</span>\n",
       " </p>,\n",
       " <p><b>M5A</b><br/><span style=\"font-size:85%;\"><a href=\"/wiki/Downtown_Toronto\" title=\"Downtown Toronto\">Downtown Toronto</a><br/>(<a href=\"/wiki/Regent_Park\" title=\"Regent Park\">Regent Park</a> / <a href=\"/wiki/Harbourfront,_Toronto\" title=\"Harbourfront, Toronto\">Harbourfront</a>)</span>\n",
       " </p>,\n",
       " <p><b>M6A</b><br/><span style=\"font-size:85%;\"><a href=\"/wiki/North_York\" title=\"North York\">North York</a><br/>(<a href=\"/wiki/Lawrence_Manor\" title=\"Lawrence Manor\">Lawrence Manor</a> / <a href=\"/wiki/Lawrence_Heights\" title=\"Lawrence Heights\">Lawrence Heights</a>)</span>\n",
       " </p>,\n",
       " <p><b>M7A</b><br/><span style=\"font-size:85%;\"><a href=\"/wiki/Queen%27s_Park_(Toronto)\" title=\"Queen's Park (Toronto)\">Queen's Park</a><br/>(Ontario Provincial Government)</span>\n",
       " </p>,\n",
       " <p><b>M8A</b><br/><span style=\"font-size:85%;\"><i>Not assigned</i></span>\n",
       " </p>,\n",
       " <p><b>M9A</b><br/><span style=\"font-size:85%;\"><a href=\"/wiki/Etobicoke\" title=\"Etobicoke\">Etobicoke</a><br/>(<a class=\"mw-redirect\" href=\"/wiki/Islington_Avenue\" title=\"Islington Avenue\">Islington Avenue</a>)</span>\n",
       " </p>,\n",
       " <p><b>M1B</b><br/><span style=\"font-size:85%;\"><a href=\"/wiki/Scarborough,_Toronto\" title=\"Scarborough, Toronto\">Scarborough</a><br/>(<a href=\"/wiki/Malvern,_Toronto\" title=\"Malvern, Toronto\">Malvern</a> / <a href=\"/wiki/Rouge,_Toronto\" title=\"Rouge, Toronto\">Rouge</a>)</span>\n",
       " </p>,\n",
       " <p><b>M2B</b><br/><span style=\"font-size:85%;\"><i>Not assigned</i></span>\n",
       " </p>,\n",
       " <p><b>M3B</b><br/><span style=\"font-size:85%;\"><a href=\"/wiki/North_York\" title=\"North York\">North York</a><br/>(<a href=\"/wiki/Don_Mills\" title=\"Don Mills\">Don Mills</a>)<br/>North</span>\n",
       " </p>,\n",
       " <p><b>M4B</b><br/><span style=\"font-size:85%;\"><a href=\"/wiki/East_York\" title=\"East York\">East York</a><br/>(<a class=\"mw-redirect\" href=\"/wiki/Parkview_Hill\" title=\"Parkview Hill\">Parkview Hill</a> / <a class=\"mw-redirect\" href=\"/wiki/Woodbine_Gardens\" title=\"Woodbine Gardens\">Woodbine Gardens</a>)</span>\n",
       " </p>,\n",
       " <p><b>M5B</b><br/><span style=\"font-size:85%;\"><a href=\"/wiki/Downtown_Toronto\" title=\"Downtown Toronto\">Downtown Toronto</a><br/>(<a href=\"/wiki/Garden_District,_Toronto\" title=\"Garden District, Toronto\">Garden District</a>, <a href=\"/wiki/Ryerson_University\" title=\"Ryerson University\">Ryerson</a>)</span>\n",
       " </p>,\n",
       " <p><b>M6B</b><br/><span style=\"font-size:85%;\"><a href=\"/wiki/North_York\" title=\"North York\">North York</a><br/>(Glencairn)</span>\n",
       " </p>,\n",
       " <p><b>M7B</b><br/><span style=\"font-size:85%;\"><i>Not assigned</i></span>\n",
       " </p>,\n",
       " <p><b>M8B</b><br/><span style=\"font-size:85%;\"><i>Not assigned</i></span>\n",
       " </p>,\n",
       " <p><b>M9B</b><br/><span style=\"font-size:85%;\"><a href=\"/wiki/Etobicoke\" title=\"Etobicoke\">Etobicoke</a><br/>(<a class=\"mw-redirect\" href=\"/wiki/West_Deane_Park\" title=\"West Deane Park\">West Deane Park</a> / <a href=\"/wiki/Princess_Gardens\" title=\"Princess Gardens\">Princess Gardens</a> / <a class=\"mw-redirect\" href=\"/wiki/Martin_Grove_Road\" title=\"Martin Grove Road\">Martin Grove</a> / <a class=\"mw-redirect\" href=\"/wiki/Islington,_Toronto\" title=\"Islington, Toronto\">Islington</a> / Cloverdale)</span>\n",
       " </p>,\n",
       " <p><b>M1C</b><br/><span style=\"font-size:85%;\"><a href=\"/wiki/Scarborough,_Toronto\" title=\"Scarborough, Toronto\">Scarborough</a><br/>(<a class=\"mw-redirect\" href=\"/wiki/Rouge_Hill\" title=\"Rouge Hill\">Rouge Hill</a> / <a class=\"mw-redirect\" href=\"/wiki/Port_Union,_Ontario\" title=\"Port Union, Ontario\">Port Union</a> / <a href=\"/wiki/Highland_Creek,_Toronto\" title=\"Highland Creek, Toronto\">Highland Creek</a>)</span>\n",
       " </p>,\n",
       " <p><b>M2C</b><br/><span style=\"font-size:85%;\"><i>Not assigned</i></span>\n",
       " </p>,\n",
       " <p><b>M3C</b><br/><span style=\"font-size:85%;\"><a href=\"/wiki/North_York\" title=\"North York\">North York</a><br/>(<a href=\"/wiki/Don_Mills\" title=\"Don Mills\">Don Mills</a>)<br/>South<br/>(<a href=\"/wiki/Flemingdon_Park\" title=\"Flemingdon Park\">Flemingdon Park</a>)</span>\n",
       " </p>,\n",
       " <p><b>M4C</b><br/><span style=\"font-size:85%;\"><a href=\"/wiki/East_York\" title=\"East York\">East York</a><br/>(<a class=\"mw-redirect\" href=\"/wiki/Woodbine_Heights\" title=\"Woodbine Heights\">Woodbine Heights</a>)</span>\n",
       " </p>,\n",
       " <p><b>M5C</b><br/><span style=\"font-size:85%;\"><a href=\"/wiki/Downtown_Toronto\" title=\"Downtown Toronto\">Downtown Toronto</a><br/>(<a href=\"/wiki/St._James_Town\" title=\"St. James Town\">St. James Town</a>)</span>\n",
       " </p>,\n",
       " <p><b>M6C</b><br/><span style=\"font-size:85%;\"><a href=\"/wiki/York,_Toronto\" title=\"York, Toronto\">York</a><br/>(<a class=\"mw-redirect\" href=\"/wiki/Humewood-Cedarvale\" title=\"Humewood-Cedarvale\">Humewood-Cedarvale</a>)</span>\n",
       " </p>,\n",
       " <p><b>M7C</b><br/><span style=\"font-size:85%;\"><i>Not assigned</i></span>\n",
       " </p>,\n",
       " <p><b>M8C</b><br/><span style=\"font-size:85%;\"><i>Not assigned</i></span>\n",
       " </p>,\n",
       " <p><b>M9C</b><br/><span style=\"font-size:85%;\"><a href=\"/wiki/Etobicoke\" title=\"Etobicoke\">Etobicoke</a><br/>(Eringate / Bloordale Gardens / Old Burnhamthorpe / <a href=\"/wiki/Markland_Wood\" title=\"Markland Wood\">Markland Wood</a>)</span>\n",
       " </p>,\n",
       " <p><b>M1E</b><br/><span style=\"font-size:85%;\"><a href=\"/wiki/Scarborough,_Toronto\" title=\"Scarborough, Toronto\">Scarborough</a><br/>(<a href=\"/wiki/Guildwood\" title=\"Guildwood\">Guildwood</a> / <a href=\"/wiki/Morningside,_Toronto\" title=\"Morningside, Toronto\">Morningside</a> / <a href=\"/wiki/West_Hill,_Toronto\" title=\"West Hill, Toronto\">West Hill</a>)</span>\n",
       " </p>,\n",
       " <p><b>M2E</b><br/><span style=\"font-size:85%;\"><i>Not assigned</i></span>\n",
       " </p>,\n",
       " <p><b>M3E</b><br/><span style=\"font-size:85%;\"><i>Not assigned</i></span>\n",
       " </p>,\n",
       " <p><b>M4E</b><br/><span style=\"font-size:85%;\">East Toronto<br/>(<a href=\"/wiki/The_Beaches\" title=\"The Beaches\">The Beaches</a>)</span>\n",
       " </p>,\n",
       " <p><b>M5E</b><br/><span style=\"font-size:85%;\"><a href=\"/wiki/Downtown_Toronto\" title=\"Downtown Toronto\">Downtown Toronto</a><br/>(Berczy Park)</span>\n",
       " </p>,\n",
       " <p><b>M6E</b><br/><span style=\"font-size:85%;\"><a href=\"/wiki/York,_Toronto\" title=\"York, Toronto\">York</a><br/>(<a class=\"mw-redirect\" href=\"/wiki/Caledonia-Fairbanks\" title=\"Caledonia-Fairbanks\">Caledonia-Fairbanks</a>)</span>\n",
       " </p>,\n",
       " <p><b>M7E</b><br/><span style=\"font-size:85%;\"><i>Not assigned</i></span>\n",
       " </p>,\n",
       " <p><b>M8E</b><br/><span style=\"font-size:85%;\"><i>Not assigned</i></span>\n",
       " </p>,\n",
       " <p><b>M9E</b><br/><span style=\"font-size:85%;\"><i>Not assigned</i></span>\n",
       " </p>,\n",
       " <p><b>M1G</b><br/><span style=\"font-size:85%;\"><a href=\"/wiki/Scarborough,_Toronto\" title=\"Scarborough, Toronto\">Scarborough</a><br/>(<a href=\"/wiki/Woburn,_Toronto\" title=\"Woburn, Toronto\">Woburn</a>)</span>\n",
       " </p>,\n",
       " <p><b>M2G</b><br/><span style=\"font-size:85%;\"><i>Not assigned</i></span>\n",
       " </p>,\n",
       " <p><b>M3G</b><br/><span style=\"font-size:85%;\"><i>Not assigned</i></span>\n",
       " </p>,\n",
       " <p><b>M4G</b><br/><span style=\"font-size:85%;\"><a href=\"/wiki/East_York\" title=\"East York\">East York</a><br/>(<a href=\"/wiki/Leaside\" title=\"Leaside\">Leaside</a>)</span>\n",
       " </p>,\n",
       " <p><b>M5G</b><br/><span style=\"font-size:85%;\"><a href=\"/wiki/Downtown_Toronto\" title=\"Downtown Toronto\">Downtown Toronto</a><br/>(Central <a href=\"/wiki/Bay_Street\" title=\"Bay Street\">Bay Street</a>)</span>\n",
       " </p>,\n",
       " <p><b>M6G</b><br/><span style=\"font-size:85%;\"><a href=\"/wiki/Downtown_Toronto\" title=\"Downtown Toronto\">Downtown Toronto</a><br/>(Christie)</span>\n",
       " </p>,\n",
       " <p><b>M7G</b><br/><span style=\"font-size:85%;\"><i>Not assigned</i></span>\n",
       " </p>,\n",
       " <p><b>M8G</b><br/><span style=\"font-size:85%;\"><i>Not assigned</i></span>\n",
       " </p>,\n",
       " <p><b>M9G</b><br/><span style=\"font-size:85%;\"><i>Not assigned</i></span>\n",
       " </p>,\n",
       " <p><b>M1H</b><br/><span style=\"font-size:85%;\"><a href=\"/wiki/Scarborough,_Toronto\" title=\"Scarborough, Toronto\">Scarborough</a><br/>(<a href=\"/wiki/Woburn,_Toronto\" title=\"Woburn, Toronto\">Cedarbrae</a>)</span>\n",
       " </p>,\n",
       " <p><b>M2H</b><br/><span style=\"font-size:85%;\"><a href=\"/wiki/North_York\" title=\"North York\">North York</a><br/>(<a href=\"/wiki/Hillcrest_Village\" title=\"Hillcrest Village\">Hillcrest Village</a>)</span>\n",
       " </p>,\n",
       " <p><b>M3H</b><br/><span style=\"font-size:85%;\"><a href=\"/wiki/North_York\" title=\"North York\">North York</a><br/>(<a href=\"/wiki/Bathurst_Manor\" title=\"Bathurst Manor\">Bathurst Manor</a> / <a class=\"mw-redirect\" href=\"/wiki/Wilson_Heights,_Toronto\" title=\"Wilson Heights, Toronto\">Wilson Heights</a> / <a href=\"/wiki/Downsview\" title=\"Downsview\">Downsview</a> North)</span>\n",
       " </p>,\n",
       " <p><b>M4H</b><br/><span style=\"font-size:85%;\"><a href=\"/wiki/East_York\" title=\"East York\">East York</a><br/>(<a href=\"/wiki/Thorncliffe_Park\" title=\"Thorncliffe Park\">Thorncliffe Park</a>)</span>\n",
       " </p>,\n",
       " <p><b>M5H</b><br/><span style=\"font-size:85%;\"><a href=\"/wiki/Downtown_Toronto\" title=\"Downtown Toronto\">Downtown Toronto</a><br/>(<a class=\"mw-redirect\" href=\"/wiki/Richmond_Street\" title=\"Richmond Street\">Richmond</a> / Adelaide / <a href=\"/wiki/King_Street_(Toronto)\" title=\"King Street (Toronto)\">King</a>)</span>\n",
       " </p>,\n",
       " <p><b>M6H</b><br/><span style=\"font-size:85%;\">West Toronto<br/>(<a href=\"/wiki/Dufferin_Street\" title=\"Dufferin Street\">Dufferin</a> / <a class=\"mw-redirect\" href=\"/wiki/Dovercourt_Village\" title=\"Dovercourt Village\">Dovercourt Village</a>)</span>\n",
       " </p>,\n",
       " <p><b>M7H</b><br/><span style=\"font-size:85%;\"><i>Not assigned</i></span>\n",
       " </p>,\n",
       " <p><b>M8H</b><br/><span style=\"font-size:85%;\"><i>Not assigned</i></span>\n",
       " </p>,\n",
       " <p><b>M9H</b><br/><span style=\"font-size:85%;\"><i>Not assigned</i></span>\n",
       " </p>,\n",
       " <p><b>M1J</b><br/><span style=\"font-size:85%;\"><a href=\"/wiki/Scarborough,_Toronto\" title=\"Scarborough, Toronto\">Scarborough</a><br/>(<a href=\"/wiki/Scarborough_Village\" title=\"Scarborough Village\">Scarborough Village</a>)</span>\n",
       " </p>,\n",
       " <p><b>M2J</b><br/><span style=\"font-size:85%;\"><a href=\"/wiki/North_York\" title=\"North York\">North York</a><br/>(Fairview / <a href=\"/wiki/Henry_Farm\" title=\"Henry Farm\">Henry Farm</a> / Oriole)</span>\n",
       " </p>,\n",
       " <p><b>M3J</b><br/><span style=\"font-size:85%;\"><a href=\"/wiki/North_York\" title=\"North York\">North York</a><br/>(<a href=\"/wiki/York_University_Heights\" title=\"York University Heights\">Northwood Park</a> / <a href=\"/wiki/York_University\" title=\"York University\">York University</a>)</span>\n",
       " </p>,\n",
       " <p><b>M4J</b><br/><span style=\"font-size:85%;\"><a href=\"/wiki/East_York\" title=\"East York\">East York</a><br/>East Toronto<br/>(<a class=\"mw-redirect\" href=\"/wiki/The_Danforth\" title=\"The Danforth\">The Danforth</a> <br/> East)</span>\n",
       " </p>,\n",
       " <p><b>M5J</b><br/><span style=\"font-size:85%;\"><a href=\"/wiki/Downtown_Toronto\" title=\"Downtown Toronto\">Downtown Toronto</a><br/>(<a class=\"mw-redirect\" href=\"/wiki/Harbourfront_(Toronto)\" title=\"Harbourfront (Toronto)\">Harbourfront</a> East / <a href=\"/wiki/Union_Station_(Toronto)\" title=\"Union Station (Toronto)\">Union Station</a> / <a href=\"/wiki/Toronto_Islands\" title=\"Toronto Islands\">Toronto Islands</a>)</span>\n",
       " </p>,\n",
       " <p><b>M6J</b><br/><span style=\"font-size:85%;\">West Toronto<br/>(<a href=\"/wiki/Little_Portugal,_Toronto\" title=\"Little Portugal, Toronto\">Little Portugal</a> / <a class=\"mw-redirect\" href=\"/wiki/Trinity%E2%80%93Bellwoods\" title=\"Trinity–Bellwoods\">Trinity</a>)</span>\n",
       " </p>,\n",
       " <p><b>M7J</b><br/><span style=\"font-size:85%;\"><i>Not assigned</i></span>\n",
       " </p>,\n",
       " <p><b>M8J</b><br/><span style=\"font-size:85%;\"><i>Not assigned</i></span>\n",
       " </p>,\n",
       " <p><b>M9J</b><br/><span style=\"font-size:85%;\"><i>Not assigned</i></span>\n",
       " </p>,\n",
       " <p><b>M1K</b><br/><span style=\"font-size:85%;\"><a href=\"/wiki/Scarborough,_Toronto\" title=\"Scarborough, Toronto\">Scarborough</a><br/>(<a class=\"mw-redirect\" href=\"/wiki/Kennedy_Park,_Toronto\" title=\"Kennedy Park, Toronto\">Kennedy Park</a> / <a href=\"/wiki/Ionview\" title=\"Ionview\">Ionview</a> / East <a class=\"mw-redirect\" href=\"/wiki/Birchmount_Park\" title=\"Birchmount Park\">Birchmount Park</a>)</span>\n",
       " </p>,\n",
       " <p><b>M2K</b><br/><span style=\"font-size:85%;\"><a href=\"/wiki/North_York\" title=\"North York\">North York</a><br/>(<a href=\"/wiki/Bayview_Village\" title=\"Bayview Village\">Bayview Village</a>)</span>\n",
       " </p>,\n",
       " <p><b>M3K</b><br/><span style=\"font-size:85%;\"><a href=\"/wiki/North_York\" title=\"North York\">North York</a><br/>(<a href=\"/wiki/Downsview\" title=\"Downsview\">Downsview</a>)<br/>East <br/> (<a class=\"mw-redirect\" href=\"/wiki/Canadian_Forces_Base_Toronto\" title=\"Canadian Forces Base Toronto\">CFB Toronto</a>)</span>\n",
       " </p>,\n",
       " <p><b>M4K</b><br/><span style=\"font-size:85%;\">East Toronto<br/>(<a class=\"mw-redirect\" href=\"/wiki/The_Danforth\" title=\"The Danforth\">The Danforth</a> West / <a href=\"/wiki/Riverdale,_Toronto\" title=\"Riverdale, Toronto\">Riverdale</a>)</span>\n",
       " </p>,\n",
       " <p><b>M5K</b><br/><span style=\"font-size:85%;\"><a href=\"/wiki/Downtown_Toronto\" title=\"Downtown Toronto\">Downtown Toronto</a><br/>(<a class=\"mw-redirect\" href=\"/wiki/Toronto_Dominion_Centre\" title=\"Toronto Dominion Centre\">Toronto Dominion Centre</a> / <a href=\"/wiki/Design_Exchange\" title=\"Design Exchange\">Design Exchange</a>)</span>\n",
       " </p>,\n",
       " <p><b>M6K</b><br/><span style=\"font-size:85%;\">West Toronto<br/>(<a class=\"mw-redirect\" href=\"/wiki/Brockton,_Toronto\" title=\"Brockton, Toronto\">Brockton</a> / <a class=\"mw-redirect\" href=\"/wiki/Parkdale_Village\" title=\"Parkdale Village\">Parkdale Village</a> / <a href=\"/wiki/Exhibition_Place\" title=\"Exhibition Place\">Exhibition Place</a>)</span>\n",
       " </p>,\n",
       " <p><b>M7K</b><br/><span style=\"font-size:85%;\"><i>Not assigned</i></span>\n",
       " </p>,\n",
       " <p><b>M8K</b><br/><span style=\"font-size:85%;\"><i>Not assigned</i></span>\n",
       " </p>,\n",
       " <p><b>M9K</b><br/><span style=\"font-size:85%;\"><i>Not assigned</i></span>\n",
       " </p>,\n",
       " <p><b>M1L</b><br/><span style=\"font-size:85%;\"><a href=\"/wiki/Scarborough,_Toronto\" title=\"Scarborough, Toronto\">Scarborough</a><br/>(<a href=\"/wiki/Golden_Mile,_Toronto\" title=\"Golden Mile, Toronto\">Golden Mile</a> / <a href=\"/wiki/Clairlea\" title=\"Clairlea\">Clairlea</a> / <a href=\"/wiki/Oakridge,_Toronto\" title=\"Oakridge, Toronto\">Oakridge</a>)</span>\n",
       " </p>,\n",
       " <p><b>M2L</b><br/><span style=\"font-size:85%;\"><a href=\"/wiki/North_York\" title=\"North York\">North York</a><br/>(<a href=\"/wiki/York_Mills\" title=\"York Mills\">York Mills</a> / Silver Hills)</span>\n",
       " </p>,\n",
       " <p><b>M3L</b><br/><span style=\"font-size:85%;\"><a href=\"/wiki/North_York\" title=\"North York\">North York</a><br/>(<a href=\"/wiki/Downsview\" title=\"Downsview\">Downsview</a>)<br/>West</span>\n",
       " </p>,\n",
       " <p><b>M4L</b><br/><span style=\"font-size:85%;\">East Toronto<br/>(<a href=\"/wiki/Gerrard_Street_(Toronto)\" title=\"Gerrard Street (Toronto)\">India Bazaar</a> / <a href=\"/wiki/The_Beaches\" title=\"The Beaches\">The Beaches</a> West)</span>\n",
       " </p>,\n",
       " <p><b>M5L</b><br/><span style=\"font-size:85%;\"><a href=\"/wiki/Downtown_Toronto\" title=\"Downtown Toronto\">Downtown Toronto</a><br/>(<a href=\"/wiki/Commerce_Court\" title=\"Commerce Court\">Commerce Court</a> / <a href=\"/wiki/Hotel_Victoria_(Toronto)\" title=\"Hotel Victoria (Toronto)\">Victoria Hotel</a>)</span>\n",
       " </p>,\n",
       " <p><b>M6L</b><br/><span style=\"font-size:85%;\"><a href=\"/wiki/North_York\" title=\"North York\">North York</a><br/>(North Park / <a href=\"/wiki/Maple_Leaf,_Toronto\" title=\"Maple Leaf, Toronto\">Maple Leaf Park</a> / Upwood Park)</span>\n",
       " </p>,\n",
       " <p><b>M7L</b><br/><span style=\"font-size:85%;\"><i>Not assigned</i></span>\n",
       " </p>,\n",
       " <p><b>M8L</b><br/><span style=\"font-size:85%;\"><i>Not assigned</i></span>\n",
       " </p>,\n",
       " <p><b>M9L</b><br/><span style=\"font-size:85%;\"><a href=\"/wiki/North_York\" title=\"North York\">North York</a><br/>(<a href=\"/wiki/Humber_Summit\" title=\"Humber Summit\">Humber Summit</a>)</span>\n",
       " </p>,\n",
       " <p><b>M1M</b><br/><span style=\"font-size:85%;\"><a href=\"/wiki/Scarborough,_Toronto\" title=\"Scarborough, Toronto\">Scarborough</a><br/>(<a href=\"/wiki/Cliffside,_Toronto\" title=\"Cliffside, Toronto\">Cliffside</a> / <a href=\"/wiki/Cliffcrest\" title=\"Cliffcrest\">Cliffcrest</a> / <a href=\"/wiki/Scarborough_Village\" title=\"Scarborough Village\">Scarborough Village</a> West)</span>\n",
       " </p>,\n",
       " <p><b>M2M</b><br/><span style=\"font-size:85%;\"><a href=\"/wiki/North_York\" title=\"North York\">North York</a><br/>(Willowdale / <a href=\"/wiki/Newtonbrook\" title=\"Newtonbrook\">Newtonbrook</a>)</span>\n",
       " </p>,\n",
       " <p><b>M3M</b><br/><span style=\"font-size:85%;\"><a href=\"/wiki/North_York\" title=\"North York\">North York</a><br/>(<a href=\"/wiki/Downsview\" title=\"Downsview\">Downsview</a>)<br/>Central</span>\n",
       " </p>,\n",
       " <p><b>M4M</b><br/><span style=\"font-size:85%;\">East Toronto<br/>(Studio District)</span>\n",
       " </p>,\n",
       " <p><b>M5M</b><br/><span style=\"font-size:85%;\"><a href=\"/wiki/North_York\" title=\"North York\">North York</a><br/>(<a href=\"/wiki/Bedford_Park,_Toronto\" title=\"Bedford Park, Toronto\">Bedford Park</a> / <a href=\"/wiki/Lawrence_Manor\" title=\"Lawrence Manor\">Lawrence Manor</a> East)</span>\n",
       " </p>,\n",
       " <p><b>M6M</b><br/><span style=\"font-size:85%;\"><a href=\"/wiki/York,_Toronto\" title=\"York, Toronto\">York</a><br/>(Del Ray / <a href=\"/wiki/Mount_Dennis\" title=\"Mount Dennis\">Mount Dennis</a> / <a href=\"/wiki/Silverthorn,_Toronto\" title=\"Silverthorn, Toronto\">Keelsdale and Silverthorn</a>)</span>\n",
       " </p>,\n",
       " <p><b>M7M</b><br/><span style=\"font-size:85%;\"><i>Not assigned</i></span>\n",
       " </p>,\n",
       " <p><b>M8M</b><br/><span style=\"font-size:85%;\"><i>Not assigned</i></span>\n",
       " </p>,\n",
       " <p><b>M9M</b><br/><span style=\"font-size:85%;\"><a href=\"/wiki/North_York\" title=\"North York\">North York</a><br/>(<a class=\"mw-redirect\" href=\"/wiki/Humberlea\" title=\"Humberlea\">Humberlea</a> / <a class=\"mw-redirect\" href=\"/wiki/Emery,_Toronto\" title=\"Emery, Toronto\">Emery</a>)</span>\n",
       " </p>,\n",
       " <p><b>M1N</b><br/><span style=\"font-size:85%;\"><a href=\"/wiki/Scarborough,_Toronto\" title=\"Scarborough, Toronto\">Scarborough</a><br/>(<a href=\"/wiki/Birch_Cliff\" title=\"Birch Cliff\">Birch Cliff</a> / <a href=\"/wiki/Cliffside,_Toronto\" title=\"Cliffside, Toronto\">Cliffside</a> West)</span>\n",
       " </p>,\n",
       " <p><b>M2N</b><br/><span style=\"font-size:85%;\"><a href=\"/wiki/North_York\" title=\"North York\">North York</a><br/>(<a href=\"/wiki/Willowdale,_Toronto\" title=\"Willowdale, Toronto\">Willowdale</a>)<br/>South</span>\n",
       " </p>,\n",
       " <p><b>M3N</b><br/><span style=\"font-size:85%;\"><a href=\"/wiki/North_York\" title=\"North York\">North York</a><br/>(<a href=\"/wiki/Downsview\" title=\"Downsview\">Downsview</a>)<br/>Northwest</span>\n",
       " </p>,\n",
       " <p><b>M4N</b><br/><span style=\"font-size:85%;\">Central Toronto<br/>(<a href=\"/wiki/Lawrence_Park,_Toronto\" title=\"Lawrence Park, Toronto\">Lawrence Park</a>)</span>\n",
       " </p>,\n",
       " <p><b>M5N</b><br/><span style=\"font-size:85%;\">Central Toronto<br/>(Roselawn)</span>\n",
       " </p>,\n",
       " <p><b>M6N</b><br/><span style=\"font-size:85%;\"><a href=\"/wiki/York,_Toronto\" title=\"York, Toronto\">York</a><br/>(<a href=\"/wiki/Runnymede,_Toronto\" title=\"Runnymede, Toronto\">Runnymede</a> / <a href=\"/wiki/The_Junction\" title=\"The Junction\">The Junction</a> North)</span>\n",
       " </p>,\n",
       " <p><b>M7N</b><br/><span style=\"font-size:85%;\"><i>Not assigned</i></span>\n",
       " </p>,\n",
       " <p><b>M8N</b><br/><span style=\"font-size:85%;\"><i>Not assigned</i></span>\n",
       " </p>,\n",
       " <p><b>M9N</b><br/><span style=\"font-size:85%;\"><a href=\"/wiki/York,_Toronto\" title=\"York, Toronto\">York</a><br/>(<a href=\"/wiki/Weston,_Toronto\" title=\"Weston, Toronto\">Weston</a>)</span>\n",
       " </p>,\n",
       " <p><b>M1P</b><br/><span style=\"font-size:85%;\"><a href=\"/wiki/Scarborough,_Toronto\" title=\"Scarborough, Toronto\">Scarborough</a><br/>(<a href=\"/wiki/Dorset_Park\" title=\"Dorset Park\">Dorset Park</a> / <a class=\"mw-redirect\" href=\"/wiki/Wexford_Heights\" title=\"Wexford Heights\">Wexford Heights</a> / <a href=\"/wiki/Scarborough_Town_Centre\" title=\"Scarborough Town Centre\">Scarborough Town Centre</a>)</span>\n",
       " </p>,\n",
       " <p><b>M2P</b><br/><span style=\"font-size:85%;\"><a href=\"/wiki/North_York\" title=\"North York\">North York</a><br/>(<a href=\"/wiki/York_Mills\" title=\"York Mills\">York Mills</a> West)</span>\n",
       " </p>,\n",
       " <p><b>M3P</b><br/><span style=\"font-size:85%;\"><i>Not assigned</i></span>\n",
       " </p>,\n",
       " <p><b>M4P</b><br/><span style=\"font-size:85%;\">Central Toronto<br/>(<a href=\"/wiki/Davisville_Village\" title=\"Davisville Village\">Davisville</a> North)</span>\n",
       " </p>,\n",
       " <p><b>M5P</b><br/><span style=\"font-size:85%;\">Central Toronto<br/>(<a href=\"/wiki/Forest_Hill,_Toronto\" title=\"Forest Hill, Toronto\">Forest Hill</a> North &amp; West)</span>\n",
       " </p>,\n",
       " <p><b>M6P</b><br/><span style=\"font-size:85%;\">West Toronto<br/>(<a href=\"/wiki/High_Park\" title=\"High Park\">High Park</a> / <a href=\"/wiki/The_Junction\" title=\"The Junction\">The Junction</a> South)</span>\n",
       " </p>,\n",
       " <p><b>M7P</b><br/><span style=\"font-size:85%;\"><i>Not assigned</i></span>\n",
       " </p>,\n",
       " <p><b>M8P</b><br/><span style=\"font-size:85%;\"><i>Not assigned</i></span>\n",
       " </p>,\n",
       " <p><b>M9P</b><br/><span style=\"font-size:85%;\"><a href=\"/wiki/Etobicoke\" title=\"Etobicoke\">Etobicoke</a><br/>(Westmount)</span>\n",
       " </p>,\n",
       " <p><b>M1R</b><br/><span style=\"font-size:85%;\"><a href=\"/wiki/Scarborough,_Toronto\" title=\"Scarborough, Toronto\">Scarborough</a><br/>(<a href=\"/wiki/Wexford,_Toronto\" title=\"Wexford, Toronto\">Wexford</a> / <a href=\"/wiki/Maryvale,_Toronto\" title=\"Maryvale, Toronto\">Maryvale</a>)</span>\n",
       " </p>,\n",
       " <p><b>M2R</b><br/><span style=\"font-size:85%;\"><a href=\"/wiki/North_York\" title=\"North York\">North York</a><br/>(<a href=\"/wiki/Willowdale,_Toronto\" title=\"Willowdale, Toronto\">Willowdale</a>)<br/>West</span>\n",
       " </p>,\n",
       " <p><b>M3R</b><br/><span style=\"font-size:85%;\"><i>Not assigned</i></span>\n",
       " </p>,\n",
       " <p><b>M4R</b><br/><span style=\"font-size:85%;\">Central Toronto<br/>(<a href=\"/wiki/North_Toronto\" title=\"North Toronto\">North Toronto</a> West)</span>\n",
       " </p>,\n",
       " <p><b>M5R</b><br/><span style=\"font-size:85%;\">Central Toronto<br/>(<a href=\"/wiki/The_Annex\" title=\"The Annex\">The Annex</a> / <a class=\"mw-redirect\" href=\"/wiki/North_Midtown,_Toronto\" title=\"North Midtown, Toronto\">North Midtown</a> / <a href=\"/wiki/Yorkville,_Toronto\" title=\"Yorkville, Toronto\">Yorkville</a>)</span>\n",
       " </p>,\n",
       " <p><b>M6R</b><br/><span style=\"font-size:85%;\">West Toronto<br/>(<a href=\"/wiki/Parkdale,_Toronto\" title=\"Parkdale, Toronto\">Parkdale</a> / <a href=\"/wiki/Roncesvalles,_Toronto\" title=\"Roncesvalles, Toronto\">Roncesvalles</a>)</span>\n",
       " </p>,\n",
       " <p><b>M7R</b><br/><span style=\"font-size:85%;\"><a href=\"/wiki/Mississauga\" title=\"Mississauga\">Mississauga</a><br/>Canada Post Gateway Processing Centre<br/>(Enclave of L4W)</span>\n",
       " </p>,\n",
       " <p><b>M8R</b><br/><span style=\"font-size:85%;\"><i>Not assigned</i></span>\n",
       " </p>,\n",
       " <p><b>M9R</b><br/><span style=\"font-size:85%;\"><a href=\"/wiki/Etobicoke\" title=\"Etobicoke\">Etobicoke</a><br/>(<a href=\"/wiki/Kingsview_Village\" title=\"Kingsview Village\">Kingsview Village</a> / St. Phillips / Martin Grove Gardens / Richview Gardens)</span>\n",
       " </p>,\n",
       " <p><b>M1S</b><br/><span style=\"font-size:85%;\"><a href=\"/wiki/Scarborough,_Toronto\" title=\"Scarborough, Toronto\">Scarborough</a><br/>(<a href=\"/wiki/Agincourt,_Toronto\" title=\"Agincourt, Toronto\">Agincourt</a>) </span>\n",
       " </p>,\n",
       " <p><b>M2S</b><br/><span style=\"font-size:85%;\"><i>Not assigned</i></span>\n",
       " </p>,\n",
       " <p><b>M3S</b><br/><span style=\"font-size:85%;\"><i>Not assigned</i></span>\n",
       " </p>,\n",
       " <p><b>M4S</b><br/><span style=\"font-size:85%;\">Central Toronto<br/>(<a href=\"/wiki/Davisville_Village\" title=\"Davisville Village\">Davisville</a>)</span>\n",
       " </p>,\n",
       " <p><b>M5S</b><br/><span style=\"font-size:85%;\"><a href=\"/wiki/Downtown_Toronto\" title=\"Downtown Toronto\">Downtown Toronto</a><br/>(<a href=\"/wiki/University_of_Toronto\" title=\"University of Toronto\">University of Toronto</a> / Harbord)</span>\n",
       " </p>,\n",
       " <p><b>M6S</b><br/><span style=\"font-size:85%;\">West Toronto<br/>(<a href=\"/wiki/Runnymede,_Toronto\" title=\"Runnymede, Toronto\">Runnymede</a> / <a href=\"/wiki/Swansea,_Toronto\" title=\"Swansea, Toronto\">Swansea</a>)</span>\n",
       " </p>,\n",
       " <p><b>M7S</b><br/><span style=\"font-size:85%;\"><i>Not assigned</i></span>\n",
       " </p>,\n",
       " <p><b>M8S</b><br/><span style=\"font-size:85%;\"><i>Not assigned</i></span>\n",
       " </p>,\n",
       " <p><b>M9S</b><br/><span style=\"font-size:85%;\"><i>Not assigned</i></span>\n",
       " </p>,\n",
       " <p><b>M1T</b><br/><span style=\"font-size:85%;\"><a href=\"/wiki/Scarborough,_Toronto\" title=\"Scarborough, Toronto\">Scarborough</a><br/>(Clarks Corners / <a class=\"mw-redirect\" href=\"/wiki/Tam_O%27Shanter,_Ontario\" title=\"Tam O'Shanter, Ontario\">Tam O'Shanter</a> / <a class=\"mw-redirect\" href=\"/wiki/Sullivan,_Toronto\" title=\"Sullivan, Toronto\">Sullivan</a>)</span>\n",
       " </p>,\n",
       " <p><b>M2T</b><br/><span style=\"font-size:85%;\"><i>Not assigned</i></span>\n",
       " </p>,\n",
       " <p><b>M3T</b><br/><span style=\"font-size:85%;\"><i>Not assigned</i></span>\n",
       " </p>,\n",
       " <p><b>M4T</b><br/><span style=\"font-size:85%;\">Central Toronto<br/>(<a href=\"/wiki/Moore_Park,_Toronto\" title=\"Moore Park, Toronto\">Moore Park</a> / <a href=\"/wiki/Summerhill,_Toronto\" title=\"Summerhill, Toronto\">Summerhill</a> East)</span>\n",
       " </p>,\n",
       " <p><b>M5T</b><br/><span style=\"font-size:85%;\"><a href=\"/wiki/Downtown_Toronto\" title=\"Downtown Toronto\">Downtown Toronto</a><br/>(<a href=\"/wiki/Kensington_Market\" title=\"Kensington Market\">Kensington Market</a> / <a href=\"/wiki/Chinatown,_Toronto\" title=\"Chinatown, Toronto\">Chinatown</a> / <a href=\"/wiki/Grange_Park_(Toronto)\" title=\"Grange Park (Toronto)\">Grange Park</a>)</span>\n",
       " </p>,\n",
       " <p><b>M6T</b><br/><span style=\"font-size:85%;\"><i>Not assigned</i></span>\n",
       " </p>,\n",
       " <p><b>M7T</b><br/><span style=\"font-size:85%;\"><i>Not assigned</i></span>\n",
       " </p>,\n",
       " <p><b>M8T</b><br/><span style=\"font-size:85%;\"><i>Not assigned</i></span>\n",
       " </p>,\n",
       " <p><b>M9T</b><br/><span style=\"font-size:85%;\"><i>Not assigned</i></span>\n",
       " </p>,\n",
       " <p><b>M1V</b><br/><span style=\"font-size:85%;\"><a href=\"/wiki/Scarborough,_Toronto\" title=\"Scarborough, Toronto\">Scarborough</a><br/>(<a class=\"mw-redirect\" href=\"/wiki/Milliken,_Toronto\" title=\"Milliken, Toronto\">Milliken</a> / <a class=\"mw-redirect\" href=\"/wiki/Agincourt_North\" title=\"Agincourt North\">Agincourt North</a> / <a href=\"/wiki/Steeles,_Toronto\" title=\"Steeles, Toronto\">Steeles</a> East / <a href=\"/wiki/L%27Amoreaux\" title=\"L'Amoreaux\">L'Amoreaux</a> East)</span>\n",
       " </p>,\n",
       " <p><b>M2V</b><br/><span style=\"font-size:85%;\"><i>Not assigned</i></span>\n",
       " </p>,\n",
       " <p><b>M3V</b><br/><span style=\"font-size:85%;\"><i>Not assigned</i></span>\n",
       " </p>,\n",
       " <p><b>M4V</b><br/><span style=\"font-size:85%;\">Central Toronto<br/>(<a href=\"/wiki/Summerhill,_Toronto\" title=\"Summerhill, Toronto\">Summerhill</a> West / <a class=\"mw-redirect\" href=\"/wiki/Rathnelly\" title=\"Rathnelly\">Rathnelly</a> / <a href=\"/wiki/South_Hill,_Toronto\" title=\"South Hill, Toronto\">South Hill</a> / <a href=\"/wiki/Forest_Hill,_Toronto\" title=\"Forest Hill, Toronto\">Forest Hill</a> SE / <a href=\"/wiki/Deer_Park,_Toronto\" title=\"Deer Park, Toronto\">Deer Park</a>)</span>\n",
       " </p>,\n",
       " <p><b>M5V</b><br/><span style=\"font-size:85%;\"><a href=\"/wiki/Downtown_Toronto\" title=\"Downtown Toronto\">Downtown Toronto</a><br/>(<a href=\"/wiki/CN_Tower\" title=\"CN Tower\">CN Tower</a> / <a class=\"mw-redirect\" href=\"/wiki/King_and_Spadina\" title=\"King and Spadina\">King and Spadina</a> / <a href=\"/wiki/Railway_Lands\" title=\"Railway Lands\">Railway Lands</a> / <a class=\"mw-redirect\" href=\"/wiki/Harbourfront_(Toronto)\" title=\"Harbourfront (Toronto)\">Harbourfront</a> West / Bathurst Quay / <a class=\"mw-redirect\" href=\"/wiki/South_Niagara\" title=\"South Niagara\">South Niagara</a> / <a href=\"/wiki/Billy_Bishop_Toronto_City_Airport\" title=\"Billy Bishop Toronto City Airport\">Island airport</a>)</span>\n",
       " </p>,\n",
       " <p><b>M6V</b><br/><span style=\"font-size:85%;\"><i>Not assigned</i></span>\n",
       " </p>,\n",
       " <p><b>M7V</b><br/><span style=\"font-size:85%;\"><i>Not assigned</i></span>\n",
       " </p>,\n",
       " <p><b>M8V</b><br/><span style=\"font-size:85%;\"><a href=\"/wiki/Etobicoke\" title=\"Etobicoke\">Etobicoke</a><br/>(<a href=\"/wiki/New_Toronto\" title=\"New Toronto\">New Toronto</a> / <a href=\"/wiki/Mimico\" title=\"Mimico\">Mimico</a> South / Humber Bay Shores)</span>\n",
       " </p>,\n",
       " <p><b>M9V</b><br/><span style=\"font-size:85%;\"><a href=\"/wiki/Etobicoke\" title=\"Etobicoke\">Etobicoke</a><br/>(<a class=\"mw-redirect\" href=\"/wiki/South_Steeles\" title=\"South Steeles\">South Steeles</a> / <a class=\"mw-redirect\" href=\"/wiki/Silverstone,_Toronto\" title=\"Silverstone, Toronto\">Silverstone</a> / Humbergate / <a class=\"mw-redirect\" href=\"/wiki/Jamestown,_Toronto\" title=\"Jamestown, Toronto\">Jamestown</a> / <a class=\"mw-redirect\" href=\"/wiki/Mount_Olive,_Toronto\" title=\"Mount Olive, Toronto\">Mount Olive</a> / <a class=\"mw-redirect\" href=\"/wiki/Beaumond_Heights\" title=\"Beaumond Heights\">Beaumond Heights</a> / <a href=\"/wiki/Thistletown\" title=\"Thistletown\">Thistletown</a> / Albion Gardens)</span>\n",
       " </p>,\n",
       " <p><b>M1W</b><br/><span style=\"font-size:85%;\"><a href=\"/wiki/Scarborough,_Toronto\" title=\"Scarborough, Toronto\">Scarborough</a><br/>(<a href=\"/wiki/Steeles,_Toronto\" title=\"Steeles, Toronto\">Steeles</a> West / <a href=\"/wiki/L%27Amoreaux\" title=\"L'Amoreaux\">L'Amoreaux</a> West)</span>\n",
       " </p>,\n",
       " <p><b>M2W</b><br/><span style=\"font-size:85%;\"><i>Not assigned</i></span>\n",
       " </p>,\n",
       " <p><b>M3W</b><br/><span style=\"font-size:85%;\"><i>Not assigned</i></span>\n",
       " </p>,\n",
       " <p><b>M4W</b><br/><span style=\"font-size:85%;\"><a href=\"/wiki/Downtown_Toronto\" title=\"Downtown Toronto\">Downtown Toronto</a><br/>(<a href=\"/wiki/Rosedale,_Toronto\" title=\"Rosedale, Toronto\">Rosedale</a>)</span>\n",
       " </p>,\n",
       " <p><b>M5W</b><br/><span style=\"font-size:85%;\"><a href=\"/wiki/Downtown_Toronto\" title=\"Downtown Toronto\">Downtown Toronto</a><br/>Stn A PO Boxes<br/>25 The Esplanade<br/>(Enclave of M5E)</span>\n",
       " </p>,\n",
       " <p><b>M6W</b><br/><span style=\"font-size:85%;\"><i>Not assigned</i></span>\n",
       " </p>,\n",
       " <p><b>M7W</b><br/><span style=\"font-size:85%;\"><i>Not assigned</i></span>\n",
       " </p>,\n",
       " <p><b>M8W</b><br/><span style=\"font-size:85%;\"><a href=\"/wiki/Etobicoke\" title=\"Etobicoke\">Etobicoke</a><br/>(<a href=\"/wiki/Alderwood,_Toronto\" title=\"Alderwood, Toronto\">Alderwood</a> / <a href=\"/wiki/Long_Branch,_Toronto\" title=\"Long Branch, Toronto\">Long Branch</a>)</span>\n",
       " </p>,\n",
       " <p><b>M9W</b><br/><span style=\"font-size:85%;\"><a href=\"/wiki/Etobicoke\" title=\"Etobicoke\">Etobicoke</a><br/>Northwest<br/>(<a class=\"mw-redirect\" href=\"/wiki/Clairville,_Toronto\" title=\"Clairville, Toronto\">Clairville</a> / <a href=\"/wiki/Humberwood\" title=\"Humberwood\">Humberwood</a> / <a class=\"mw-redirect\" href=\"/wiki/Woodbine_Downs\" title=\"Woodbine Downs\">Woodbine Downs</a> / West Humber / Kipling Heights / <a href=\"/wiki/Rexdale\" title=\"Rexdale\">Rexdale</a> / <a class=\"mw-redirect\" href=\"/wiki/Elms,_Toronto\" title=\"Elms, Toronto\">Elms</a> / Tandridge / Old Rexdale)</span>\n",
       " </p>,\n",
       " <p><b>M1X</b><br/><span style=\"font-size:85%;\"><a href=\"/wiki/Scarborough,_Toronto\" title=\"Scarborough, Toronto\">Scarborough</a><br/>(<a class=\"mw-redirect\" href=\"/wiki/Upper_Rouge\" title=\"Upper Rouge\">Upper Rouge</a>)</span>\n",
       " </p>,\n",
       " <p><b>M2X</b><br/><span style=\"font-size:85%;\"><i>Not assigned</i></span>\n",
       " </p>,\n",
       " <p><b>M3X</b><br/><span style=\"font-size:85%;\"><i>Not assigned</i></span>\n",
       " </p>,\n",
       " <p><b>M4X</b><br/><span style=\"font-size:85%;\"><a href=\"/wiki/Downtown_Toronto\" title=\"Downtown Toronto\">Downtown Toronto</a><br/>(<a href=\"/wiki/St._James_Town\" title=\"St. James Town\">St. James Town</a> / <a class=\"mw-redirect\" href=\"/wiki/Cabbagetown_(Toronto)\" title=\"Cabbagetown (Toronto)\">Cabbagetown</a>)</span>\n",
       " </p>,\n",
       " <p><b>M5X</b><br/><span style=\"font-size:85%;\"><a href=\"/wiki/Downtown_Toronto\" title=\"Downtown Toronto\">Downtown Toronto</a><br/>(<a href=\"/wiki/First_Canadian_Place\" title=\"First Canadian Place\">First Canadian Place</a> / <a href=\"/wiki/PATH_(Toronto)\" title=\"PATH (Toronto)\">Underground city</a>)</span>\n",
       " </p>,\n",
       " <p><b>M6X</b><br/><span style=\"font-size:85%;\"><i>Not assigned</i></span>\n",
       " </p>,\n",
       " <p><b>M7X</b><br/><span style=\"font-size:85%;\"><i>Not assigned</i></span>\n",
       " </p>,\n",
       " <p><b>M8X</b><br/><span style=\"font-size:85%;\"><a href=\"/wiki/Etobicoke\" title=\"Etobicoke\">Etobicoke</a><br/>(<a href=\"/wiki/The_Kingsway\" title=\"The Kingsway\">The Kingsway</a> / Montgomery Road / <a href=\"/wiki/Old_Mill,_Toronto\" title=\"Old Mill, Toronto\">Old Mill</a> North)</span>\n",
       " </p>,\n",
       " <p><b>M9X</b><br/><span style=\"font-size:85%;\"><i>Not assigned</i></span>\n",
       " </p>,\n",
       " <p><b>M1Y</b><br/><span style=\"font-size:85%;\"><i>Not assigned</i></span>\n",
       " </p>,\n",
       " <p><b>M2Y</b><br/><span style=\"font-size:85%;\"><i>Not assigned</i></span>\n",
       " </p>,\n",
       " <p><b>M3Y</b><br/><span style=\"font-size:85%;\"><i>Not assigned</i></span>\n",
       " </p>,\n",
       " <p><b>M4Y</b><br/><span style=\"font-size:85%;\"><a href=\"/wiki/Downtown_Toronto\" title=\"Downtown Toronto\">Downtown Toronto</a><br/>(<a href=\"/wiki/Church_and_Wellesley\" title=\"Church and Wellesley\">Church and Wellesley</a>)</span>\n",
       " </p>,\n",
       " <p><b>M5Y</b><br/><span style=\"font-size:85%;\"><i>Not assigned</i></span>\n",
       " </p>,\n",
       " <p><b>M6Y</b><br/><span style=\"font-size:85%;\"><i>Not assigned</i></span>\n",
       " </p>,\n",
       " <p><b>M7Y</b><br/><span style=\"font-size:85%;\">East Toronto<br/><a class=\"mw-redirect\" href=\"/wiki/Business_reply_mail\" title=\"Business reply mail\">Business reply mail</a> Processing Centre<br/>969 Eastern<br/>(Enclave of M4L)</span>\n",
       " </p>,\n",
       " <p><b>M8Y</b><br/><span style=\"font-size:85%;\"><a href=\"/wiki/Etobicoke\" title=\"Etobicoke\">Etobicoke</a><br/>(<a href=\"/wiki/Old_Mill,_Toronto\" title=\"Old Mill, Toronto\">Old Mill</a> South / King's Mill Park / <a class=\"mw-redirect\" href=\"/wiki/Sunnylea\" title=\"Sunnylea\">Sunnylea</a> / <a href=\"/wiki/Humber_Bay\" title=\"Humber Bay\">Humber Bay</a> / <a href=\"/wiki/Mimico\" title=\"Mimico\">Mimico</a> NE / <a class=\"mw-redirect\" href=\"/wiki/The_Queensway_(Toronto)\" title=\"The Queensway (Toronto)\">The Queensway</a> East / Royal York South East / Kingsway Park South East)</span>\n",
       " </p>,\n",
       " <p><b>M9Y</b><br/><span style=\"font-size:85%;\"><i>Not assigned</i></span>\n",
       " </p>,\n",
       " <p><b>M1Z</b><br/><span style=\"font-size:85%;\"><i>Not assigned</i></span>\n",
       " </p>,\n",
       " <p><b>M2Z</b><br/><span style=\"font-size:85%;\"><i>Not assigned</i></span>\n",
       " </p>,\n",
       " <p><b>M3Z</b><br/><span style=\"font-size:85%;\"><i>Not assigned</i></span>\n",
       " </p>,\n",
       " <p><b>M4Z</b><br/><span style=\"font-size:85%;\"><i>Not assigned</i></span>\n",
       " </p>,\n",
       " <p><b>M5Z</b><br/><span style=\"font-size:85%;\"><i>Not assigned</i></span>\n",
       " </p>,\n",
       " <p><b>M6Z</b><br/><span style=\"font-size:85%;\"><i>Not assigned</i></span>\n",
       " </p>,\n",
       " <p><b>M7Z</b><br/><span style=\"font-size:85%;\"><i>Not assigned</i></span>\n",
       " </p>,\n",
       " <p><b>M8Z</b><br/><span style=\"font-size:85%;\"><a href=\"/wiki/Etobicoke\" title=\"Etobicoke\">Etobicoke</a><br/>(<a href=\"/wiki/Mimico\" title=\"Mimico\">Mimico</a> NW / <a href=\"/wiki/The_Queensway\" title=\"The Queensway\">The Queensway</a> West / South of Bloor / Kingsway Park South West / Royal York South West)</span>\n",
       " </p>,\n",
       " <p><b>M9Z</b><br/><span style=\"font-size:85%;\"><i>Not assigned</i></span>\n",
       " </p>]"
      ]
     },
     "execution_count": 6,
     "metadata": {},
     "output_type": "execute_result"
    }
   ],
   "source": [
    "#table = soup.find_all(\"table\")[0].find_all(\"td\")\n",
    "soup.find_all('tbody')[0].find_all(\"p\")"
   ]
  },
  {
   "cell_type": "markdown",
   "metadata": {},
   "source": [
    "So we begin by creating a list that we use to create the data frame"
   ]
  },
  {
   "cell_type": "code",
   "execution_count": 7,
   "metadata": {},
   "outputs": [
    {
     "name": "stdout",
     "output_type": "stream",
     "text": [
      "['M1ANot assigned\\n', 'M2ANot assigned\\n', 'M3ANorth York(Parkwoods)\\n', 'M4ANorth York(Victoria Village)\\n', 'M5ADowntown Toronto(Regent Park / Harbourfront)\\n', 'M6ANorth York(Lawrence Manor / Lawrence Heights)\\n', \"M7AQueen's Park(Ontario Provincial Government)\\n\", 'M8ANot assigned\\n', 'M9AEtobicoke(Islington Avenue)\\n', 'M1BScarborough(Malvern / Rouge)\\n', 'M2BNot assigned\\n', 'M3BNorth York(Don Mills)North\\n', 'M4BEast York(Parkview Hill / Woodbine Gardens)\\n', 'M5BDowntown Toronto(Garden District, Ryerson)\\n', 'M6BNorth York(Glencairn)\\n', 'M7BNot assigned\\n', 'M8BNot assigned\\n', 'M9BEtobicoke(West Deane Park / Princess Gardens / Martin Grove / Islington / Cloverdale)\\n', 'M1CScarborough(Rouge Hill / Port Union / Highland Creek)\\n', 'M2CNot assigned\\n', 'M3CNorth York(Don Mills)South(Flemingdon Park)\\n', 'M4CEast York(Woodbine Heights)\\n', 'M5CDowntown Toronto(St. James Town)\\n', 'M6CYork(Humewood-Cedarvale)\\n', 'M7CNot assigned\\n', 'M8CNot assigned\\n', 'M9CEtobicoke(Eringate / Bloordale Gardens / Old Burnhamthorpe / Markland Wood)\\n', 'M1EScarborough(Guildwood / Morningside / West Hill)\\n', 'M2ENot assigned\\n', 'M3ENot assigned\\n', 'M4EEast Toronto(The Beaches)\\n', 'M5EDowntown Toronto(Berczy Park)\\n', 'M6EYork(Caledonia-Fairbanks)\\n', 'M7ENot assigned\\n', 'M8ENot assigned\\n', 'M9ENot assigned\\n', 'M1GScarborough(Woburn)\\n', 'M2GNot assigned\\n', 'M3GNot assigned\\n', 'M4GEast York(Leaside)\\n', 'M5GDowntown Toronto(Central Bay Street)\\n', 'M6GDowntown Toronto(Christie)\\n', 'M7GNot assigned\\n', 'M8GNot assigned\\n', 'M9GNot assigned\\n', 'M1HScarborough(Cedarbrae)\\n', 'M2HNorth York(Hillcrest Village)\\n', 'M3HNorth York(Bathurst Manor / Wilson Heights / Downsview North)\\n', 'M4HEast York(Thorncliffe Park)\\n', 'M5HDowntown Toronto(Richmond / Adelaide / King)\\n', 'M6HWest Toronto(Dufferin / Dovercourt Village)\\n', 'M7HNot assigned\\n', 'M8HNot assigned\\n', 'M9HNot assigned\\n', 'M1JScarborough(Scarborough Village)\\n', 'M2JNorth York(Fairview / Henry Farm / Oriole)\\n', 'M3JNorth York(Northwood Park / York University)\\n', 'M4JEast YorkEast Toronto(The Danforth  East)\\n', 'M5JDowntown Toronto(Harbourfront East / Union Station / Toronto Islands)\\n', 'M6JWest Toronto(Little Portugal / Trinity)\\n', 'M7JNot assigned\\n', 'M8JNot assigned\\n', 'M9JNot assigned\\n', 'M1KScarborough(Kennedy Park / Ionview / East Birchmount Park)\\n', 'M2KNorth York(Bayview Village)\\n', 'M3KNorth York(Downsview)East  (CFB Toronto)\\n', 'M4KEast Toronto(The Danforth West / Riverdale)\\n', 'M5KDowntown Toronto(Toronto Dominion Centre / Design Exchange)\\n', 'M6KWest Toronto(Brockton / Parkdale Village / Exhibition Place)\\n', 'M7KNot assigned\\n', 'M8KNot assigned\\n', 'M9KNot assigned\\n', 'M1LScarborough(Golden Mile / Clairlea / Oakridge)\\n', 'M2LNorth York(York Mills / Silver Hills)\\n', 'M3LNorth York(Downsview)West\\n', 'M4LEast Toronto(India Bazaar / The Beaches West)\\n', 'M5LDowntown Toronto(Commerce Court / Victoria Hotel)\\n', 'M6LNorth York(North Park / Maple Leaf Park / Upwood Park)\\n', 'M7LNot assigned\\n', 'M8LNot assigned\\n', 'M9LNorth York(Humber Summit)\\n', 'M1MScarborough(Cliffside / Cliffcrest / Scarborough Village West)\\n', 'M2MNorth York(Willowdale / Newtonbrook)\\n', 'M3MNorth York(Downsview)Central\\n', 'M4MEast Toronto(Studio District)\\n', 'M5MNorth York(Bedford Park / Lawrence Manor East)\\n', 'M6MYork(Del Ray / Mount Dennis / Keelsdale and Silverthorn)\\n', 'M7MNot assigned\\n', 'M8MNot assigned\\n', 'M9MNorth York(Humberlea / Emery)\\n', 'M1NScarborough(Birch Cliff / Cliffside West)\\n', 'M2NNorth York(Willowdale)South\\n', 'M3NNorth York(Downsview)Northwest\\n', 'M4NCentral Toronto(Lawrence Park)\\n', 'M5NCentral Toronto(Roselawn)\\n', 'M6NYork(Runnymede / The Junction North)\\n', 'M7NNot assigned\\n', 'M8NNot assigned\\n', 'M9NYork(Weston)\\n', 'M1PScarborough(Dorset Park / Wexford Heights / Scarborough Town Centre)\\n', 'M2PNorth York(York Mills West)\\n', 'M3PNot assigned\\n', 'M4PCentral Toronto(Davisville North)\\n', 'M5PCentral Toronto(Forest Hill North & West)\\n', 'M6PWest Toronto(High Park / The Junction South)\\n', 'M7PNot assigned\\n', 'M8PNot assigned\\n', 'M9PEtobicoke(Westmount)\\n', 'M1RScarborough(Wexford / Maryvale)\\n', 'M2RNorth York(Willowdale)West\\n', 'M3RNot assigned\\n', 'M4RCentral Toronto(North Toronto West)\\n', 'M5RCentral Toronto(The Annex / North Midtown / Yorkville)\\n', 'M6RWest Toronto(Parkdale / Roncesvalles)\\n', 'M7RMississaugaCanada Post Gateway Processing Centre(Enclave of L4W)\\n', 'M8RNot assigned\\n', 'M9REtobicoke(Kingsview Village / St. Phillips / Martin Grove Gardens / Richview Gardens)\\n', 'M1SScarborough(Agincourt) \\n', 'M2SNot assigned\\n', 'M3SNot assigned\\n', 'M4SCentral Toronto(Davisville)\\n', 'M5SDowntown Toronto(University of Toronto / Harbord)\\n', 'M6SWest Toronto(Runnymede / Swansea)\\n', 'M7SNot assigned\\n', 'M8SNot assigned\\n', 'M9SNot assigned\\n', \"M1TScarborough(Clarks Corners / Tam O'Shanter / Sullivan)\\n\", 'M2TNot assigned\\n', 'M3TNot assigned\\n', 'M4TCentral Toronto(Moore Park / Summerhill East)\\n', 'M5TDowntown Toronto(Kensington Market / Chinatown / Grange Park)\\n', 'M6TNot assigned\\n', 'M7TNot assigned\\n', 'M8TNot assigned\\n', 'M9TNot assigned\\n', \"M1VScarborough(Milliken / Agincourt North / Steeles East / L'Amoreaux East)\\n\", 'M2VNot assigned\\n', 'M3VNot assigned\\n', 'M4VCentral Toronto(Summerhill West / Rathnelly / South Hill / Forest Hill SE / Deer Park)\\n', 'M5VDowntown Toronto(CN Tower / King and Spadina / Railway Lands / Harbourfront West / Bathurst Quay / South Niagara / Island airport)\\n', 'M6VNot assigned\\n', 'M7VNot assigned\\n', 'M8VEtobicoke(New Toronto / Mimico South / Humber Bay Shores)\\n', 'M9VEtobicoke(South Steeles / Silverstone / Humbergate / Jamestown / Mount Olive / Beaumond Heights / Thistletown / Albion Gardens)\\n', \"M1WScarborough(Steeles West / L'Amoreaux West)\\n\", 'M2WNot assigned\\n', 'M3WNot assigned\\n', 'M4WDowntown Toronto(Rosedale)\\n', 'M5WDowntown TorontoStn A PO Boxes25 The Esplanade(Enclave of M5E)\\n', 'M6WNot assigned\\n', 'M7WNot assigned\\n', 'M8WEtobicoke(Alderwood / Long Branch)\\n', 'M9WEtobicokeNorthwest(Clairville / Humberwood / Woodbine Downs / West Humber / Kipling Heights / Rexdale / Elms / Tandridge / Old Rexdale)\\n', 'M1XScarborough(Upper Rouge)\\n', 'M2XNot assigned\\n', 'M3XNot assigned\\n', 'M4XDowntown Toronto(St. James Town / Cabbagetown)\\n', 'M5XDowntown Toronto(First Canadian Place / Underground city)\\n', 'M6XNot assigned\\n', 'M7XNot assigned\\n', 'M8XEtobicoke(The Kingsway / Montgomery Road / Old Mill North)\\n', 'M9XNot assigned\\n', 'M1YNot assigned\\n', 'M2YNot assigned\\n', 'M3YNot assigned\\n', 'M4YDowntown Toronto(Church and Wellesley)\\n', 'M5YNot assigned\\n', 'M6YNot assigned\\n', 'M7YEast TorontoBusiness reply mail Processing Centre969 Eastern(Enclave of M4L)\\n', \"M8YEtobicoke(Old Mill South / King's Mill Park / Sunnylea / Humber Bay / Mimico NE / The Queensway East / Royal York South East / Kingsway Park South East)\\n\", 'M9YNot assigned\\n', 'M1ZNot assigned\\n', 'M2ZNot assigned\\n', 'M3ZNot assigned\\n', 'M4ZNot assigned\\n', 'M5ZNot assigned\\n', 'M6ZNot assigned\\n', 'M7ZNot assigned\\n', 'M8ZEtobicoke(Mimico NW / The Queensway West / South of Bloor / Kingsway Park South West / Royal York South West)\\n', 'M9ZNot assigned\\n']\n"
     ]
    }
   ],
   "source": [
    "ls = []\n",
    "n = 0\n",
    "for x in soup.find_all('tbody')[0].find_all(\"p\"):\n",
    "    ls.append(soup.find_all('tbody')[0].find_all(\"p\")[n].text)\n",
    "    n = n + 1\n",
    "print(ls)\n",
    "    "
   ]
  },
  {
   "cell_type": "markdown",
   "metadata": {},
   "source": [
    "The list is converted into a Pandas dataframe"
   ]
  },
  {
   "cell_type": "code",
   "execution_count": 8,
   "metadata": {},
   "outputs": [],
   "source": [
    "df = pd.DataFrame(ls)"
   ]
  },
  {
   "cell_type": "code",
   "execution_count": 9,
   "metadata": {},
   "outputs": [
    {
     "data": {
      "text/html": [
       "<div>\n",
       "<style scoped>\n",
       "    .dataframe tbody tr th:only-of-type {\n",
       "        vertical-align: middle;\n",
       "    }\n",
       "\n",
       "    .dataframe tbody tr th {\n",
       "        vertical-align: top;\n",
       "    }\n",
       "\n",
       "    .dataframe thead th {\n",
       "        text-align: right;\n",
       "    }\n",
       "</style>\n",
       "<table border=\"1\" class=\"dataframe\">\n",
       "  <thead>\n",
       "    <tr style=\"text-align: right;\">\n",
       "      <th></th>\n",
       "      <th>0</th>\n",
       "    </tr>\n",
       "  </thead>\n",
       "  <tbody>\n",
       "    <tr>\n",
       "      <th>0</th>\n",
       "      <td>M1ANot assigned\\n</td>\n",
       "    </tr>\n",
       "    <tr>\n",
       "      <th>1</th>\n",
       "      <td>M2ANot assigned\\n</td>\n",
       "    </tr>\n",
       "    <tr>\n",
       "      <th>2</th>\n",
       "      <td>M3ANorth York(Parkwoods)\\n</td>\n",
       "    </tr>\n",
       "    <tr>\n",
       "      <th>3</th>\n",
       "      <td>M4ANorth York(Victoria Village)\\n</td>\n",
       "    </tr>\n",
       "    <tr>\n",
       "      <th>4</th>\n",
       "      <td>M5ADowntown Toronto(Regent Park / Harbourfront)\\n</td>\n",
       "    </tr>\n",
       "  </tbody>\n",
       "</table>\n",
       "</div>"
      ],
      "text/plain": [
       "                                                   0\n",
       "0                                  M1ANot assigned\\n\n",
       "1                                  M2ANot assigned\\n\n",
       "2                         M3ANorth York(Parkwoods)\\n\n",
       "3                  M4ANorth York(Victoria Village)\\n\n",
       "4  M5ADowntown Toronto(Regent Park / Harbourfront)\\n"
      ]
     },
     "execution_count": 9,
     "metadata": {},
     "output_type": "execute_result"
    }
   ],
   "source": [
    "df.head()"
   ]
  },
  {
   "cell_type": "markdown",
   "metadata": {},
   "source": [
    "---\n",
    "## Cleaning the Dataframe\n",
    "We creating a dataframe with the required columns and perfom the first data split."
   ]
  },
  {
   "cell_type": "code",
   "execution_count": 10,
   "metadata": {},
   "outputs": [
    {
     "data": {
      "text/html": [
       "<div>\n",
       "<style scoped>\n",
       "    .dataframe tbody tr th:only-of-type {\n",
       "        vertical-align: middle;\n",
       "    }\n",
       "\n",
       "    .dataframe tbody tr th {\n",
       "        vertical-align: top;\n",
       "    }\n",
       "\n",
       "    .dataframe thead th {\n",
       "        text-align: right;\n",
       "    }\n",
       "</style>\n",
       "<table border=\"1\" class=\"dataframe\">\n",
       "  <thead>\n",
       "    <tr style=\"text-align: right;\">\n",
       "      <th></th>\n",
       "      <th>PostalCode</th>\n",
       "      <th>Borough</th>\n",
       "      <th>Neighborhood</th>\n",
       "    </tr>\n",
       "  </thead>\n",
       "  <tbody>\n",
       "    <tr>\n",
       "      <th>0</th>\n",
       "      <td>M1A</td>\n",
       "      <td>Not assigned\\n</td>\n",
       "      <td>NaN</td>\n",
       "    </tr>\n",
       "    <tr>\n",
       "      <th>1</th>\n",
       "      <td>M2A</td>\n",
       "      <td>Not assigned\\n</td>\n",
       "      <td>NaN</td>\n",
       "    </tr>\n",
       "    <tr>\n",
       "      <th>2</th>\n",
       "      <td>M3A</td>\n",
       "      <td>North York(Parkwoods)\\n</td>\n",
       "      <td>NaN</td>\n",
       "    </tr>\n",
       "    <tr>\n",
       "      <th>3</th>\n",
       "      <td>M4A</td>\n",
       "      <td>North York(Victoria Village)\\n</td>\n",
       "      <td>NaN</td>\n",
       "    </tr>\n",
       "    <tr>\n",
       "      <th>4</th>\n",
       "      <td>M5A</td>\n",
       "      <td>Downtown Toronto(Regent Park / Harbourfront)\\n</td>\n",
       "      <td>NaN</td>\n",
       "    </tr>\n",
       "  </tbody>\n",
       "</table>\n",
       "</div>"
      ],
      "text/plain": [
       "  PostalCode                                         Borough Neighborhood\n",
       "0        M1A                                  Not assigned\\n          NaN\n",
       "1        M2A                                  Not assigned\\n          NaN\n",
       "2        M3A                         North York(Parkwoods)\\n          NaN\n",
       "3        M4A                  North York(Victoria Village)\\n          NaN\n",
       "4        M5A  Downtown Toronto(Regent Park / Harbourfront)\\n          NaN"
      ]
     },
     "execution_count": 10,
     "metadata": {},
     "output_type": "execute_result"
    }
   ],
   "source": [
    "toronto_df = pd.DataFrame(columns=[\"PostalCode\", \"Borough\", \"Neighborhood\"])\n",
    "\n",
    "toronto_df[\"PostalCode\"] = df.iloc[:,0].str[0:3]\n",
    "toronto_df[\"Borough\"] = df.iloc[:,0].str[3:]\n",
    "\n",
    "\n",
    "\n",
    "toronto_df.head()"
   ]
  },
  {
   "cell_type": "markdown",
   "metadata": {},
   "source": [
    "Removing <code>\\n</code> from cells"
   ]
  },
  {
   "cell_type": "code",
   "execution_count": 11,
   "metadata": {},
   "outputs": [
    {
     "data": {
      "text/html": [
       "<div>\n",
       "<style scoped>\n",
       "    .dataframe tbody tr th:only-of-type {\n",
       "        vertical-align: middle;\n",
       "    }\n",
       "\n",
       "    .dataframe tbody tr th {\n",
       "        vertical-align: top;\n",
       "    }\n",
       "\n",
       "    .dataframe thead th {\n",
       "        text-align: right;\n",
       "    }\n",
       "</style>\n",
       "<table border=\"1\" class=\"dataframe\">\n",
       "  <thead>\n",
       "    <tr style=\"text-align: right;\">\n",
       "      <th></th>\n",
       "      <th>PostalCode</th>\n",
       "      <th>Borough</th>\n",
       "      <th>Neighborhood</th>\n",
       "    </tr>\n",
       "  </thead>\n",
       "  <tbody>\n",
       "    <tr>\n",
       "      <th>0</th>\n",
       "      <td>M1A</td>\n",
       "      <td>Not assigned</td>\n",
       "      <td>NaN</td>\n",
       "    </tr>\n",
       "    <tr>\n",
       "      <th>1</th>\n",
       "      <td>M2A</td>\n",
       "      <td>Not assigned</td>\n",
       "      <td>NaN</td>\n",
       "    </tr>\n",
       "    <tr>\n",
       "      <th>2</th>\n",
       "      <td>M3A</td>\n",
       "      <td>North York(Parkwoods)</td>\n",
       "      <td>NaN</td>\n",
       "    </tr>\n",
       "    <tr>\n",
       "      <th>3</th>\n",
       "      <td>M4A</td>\n",
       "      <td>North York(Victoria Village)</td>\n",
       "      <td>NaN</td>\n",
       "    </tr>\n",
       "    <tr>\n",
       "      <th>4</th>\n",
       "      <td>M5A</td>\n",
       "      <td>Downtown Toronto(Regent Park / Harbourfront)</td>\n",
       "      <td>NaN</td>\n",
       "    </tr>\n",
       "  </tbody>\n",
       "</table>\n",
       "</div>"
      ],
      "text/plain": [
       "  PostalCode                                       Borough Neighborhood\n",
       "0        M1A                                  Not assigned          NaN\n",
       "1        M2A                                  Not assigned          NaN\n",
       "2        M3A                         North York(Parkwoods)          NaN\n",
       "3        M4A                  North York(Victoria Village)          NaN\n",
       "4        M5A  Downtown Toronto(Regent Park / Harbourfront)          NaN"
      ]
     },
     "execution_count": 11,
     "metadata": {},
     "output_type": "execute_result"
    }
   ],
   "source": [
    "toronto_df[\"Borough\"] = toronto_df[\"Borough\"].str.replace(\"\\n\",\"\")\n",
    "toronto_df.head()"
   ]
  },
  {
   "cell_type": "markdown",
   "metadata": {},
   "source": [
    "Removing cells with a borough that is <code>Not assigned</code>"
   ]
  },
  {
   "cell_type": "code",
   "execution_count": 12,
   "metadata": {},
   "outputs": [
    {
     "data": {
      "text/html": [
       "<div>\n",
       "<style scoped>\n",
       "    .dataframe tbody tr th:only-of-type {\n",
       "        vertical-align: middle;\n",
       "    }\n",
       "\n",
       "    .dataframe tbody tr th {\n",
       "        vertical-align: top;\n",
       "    }\n",
       "\n",
       "    .dataframe thead th {\n",
       "        text-align: right;\n",
       "    }\n",
       "</style>\n",
       "<table border=\"1\" class=\"dataframe\">\n",
       "  <thead>\n",
       "    <tr style=\"text-align: right;\">\n",
       "      <th></th>\n",
       "      <th>PostalCode</th>\n",
       "      <th>Borough</th>\n",
       "      <th>Neighborhood</th>\n",
       "    </tr>\n",
       "  </thead>\n",
       "  <tbody>\n",
       "    <tr>\n",
       "      <th>2</th>\n",
       "      <td>M3A</td>\n",
       "      <td>North York(Parkwoods)</td>\n",
       "      <td>NaN</td>\n",
       "    </tr>\n",
       "    <tr>\n",
       "      <th>3</th>\n",
       "      <td>M4A</td>\n",
       "      <td>North York(Victoria Village)</td>\n",
       "      <td>NaN</td>\n",
       "    </tr>\n",
       "    <tr>\n",
       "      <th>4</th>\n",
       "      <td>M5A</td>\n",
       "      <td>Downtown Toronto(Regent Park / Harbourfront)</td>\n",
       "      <td>NaN</td>\n",
       "    </tr>\n",
       "    <tr>\n",
       "      <th>5</th>\n",
       "      <td>M6A</td>\n",
       "      <td>North York(Lawrence Manor / Lawrence Heights)</td>\n",
       "      <td>NaN</td>\n",
       "    </tr>\n",
       "    <tr>\n",
       "      <th>6</th>\n",
       "      <td>M7A</td>\n",
       "      <td>Queen's Park(Ontario Provincial Government)</td>\n",
       "      <td>NaN</td>\n",
       "    </tr>\n",
       "  </tbody>\n",
       "</table>\n",
       "</div>"
      ],
      "text/plain": [
       "  PostalCode                                        Borough Neighborhood\n",
       "2        M3A                          North York(Parkwoods)          NaN\n",
       "3        M4A                   North York(Victoria Village)          NaN\n",
       "4        M5A   Downtown Toronto(Regent Park / Harbourfront)          NaN\n",
       "5        M6A  North York(Lawrence Manor / Lawrence Heights)          NaN\n",
       "6        M7A    Queen's Park(Ontario Provincial Government)          NaN"
      ]
     },
     "execution_count": 12,
     "metadata": {},
     "output_type": "execute_result"
    }
   ],
   "source": [
    "toronto_df = toronto_df[toronto_df.Borough != \"Not assigned\"]\n",
    "toronto_df.head()"
   ]
  },
  {
   "cell_type": "markdown",
   "metadata": {},
   "source": [
    "Split boroughs and neighborhoods"
   ]
  },
  {
   "cell_type": "code",
   "execution_count": 13,
   "metadata": {},
   "outputs": [
    {
     "data": {
      "text/html": [
       "<div>\n",
       "<style scoped>\n",
       "    .dataframe tbody tr th:only-of-type {\n",
       "        vertical-align: middle;\n",
       "    }\n",
       "\n",
       "    .dataframe tbody tr th {\n",
       "        vertical-align: top;\n",
       "    }\n",
       "\n",
       "    .dataframe thead th {\n",
       "        text-align: right;\n",
       "    }\n",
       "</style>\n",
       "<table border=\"1\" class=\"dataframe\">\n",
       "  <thead>\n",
       "    <tr style=\"text-align: right;\">\n",
       "      <th></th>\n",
       "      <th>PostalCode</th>\n",
       "      <th>Borough</th>\n",
       "      <th>Neighborhood</th>\n",
       "    </tr>\n",
       "  </thead>\n",
       "  <tbody>\n",
       "    <tr>\n",
       "      <th>2</th>\n",
       "      <td>M3A</td>\n",
       "      <td>North York</td>\n",
       "      <td>Parkwoods)</td>\n",
       "    </tr>\n",
       "    <tr>\n",
       "      <th>3</th>\n",
       "      <td>M4A</td>\n",
       "      <td>North York</td>\n",
       "      <td>Victoria Village)</td>\n",
       "    </tr>\n",
       "    <tr>\n",
       "      <th>4</th>\n",
       "      <td>M5A</td>\n",
       "      <td>Downtown Toronto</td>\n",
       "      <td>Regent Park / Harbourfront)</td>\n",
       "    </tr>\n",
       "    <tr>\n",
       "      <th>5</th>\n",
       "      <td>M6A</td>\n",
       "      <td>North York</td>\n",
       "      <td>Lawrence Manor / Lawrence Heights)</td>\n",
       "    </tr>\n",
       "    <tr>\n",
       "      <th>6</th>\n",
       "      <td>M7A</td>\n",
       "      <td>Queen's Park</td>\n",
       "      <td>Ontario Provincial Government)</td>\n",
       "    </tr>\n",
       "  </tbody>\n",
       "</table>\n",
       "</div>"
      ],
      "text/plain": [
       "  PostalCode           Borough                        Neighborhood\n",
       "2        M3A        North York                          Parkwoods)\n",
       "3        M4A        North York                   Victoria Village)\n",
       "4        M5A  Downtown Toronto         Regent Park / Harbourfront)\n",
       "5        M6A        North York  Lawrence Manor / Lawrence Heights)\n",
       "6        M7A      Queen's Park      Ontario Provincial Government)"
      ]
     },
     "execution_count": 13,
     "metadata": {},
     "output_type": "execute_result"
    }
   ],
   "source": [
    "toronto_df[['Borough','Neighborhood']] = toronto_df[\"Borough\"].str.split('(', n=1, expand=True)\n",
    "toronto_df.head()"
   ]
  },
  {
   "cell_type": "markdown",
   "metadata": {},
   "source": [
    "Cleaning <code>Neighborhood</code>"
   ]
  },
  {
   "cell_type": "code",
   "execution_count": 14,
   "metadata": {},
   "outputs": [
    {
     "name": "stderr",
     "output_type": "stream",
     "text": [
      "<ipython-input-14-037383112f6d>:1: FutureWarning: The default value of regex will change from True to False in a future version. In addition, single character regular expressions will*not* be treated as literal strings when regex=True.\n",
      "  toronto_df[\"Neighborhood\"] = toronto_df[\"Neighborhood\"].str.replace(\")\",\"\")\n"
     ]
    }
   ],
   "source": [
    "toronto_df[\"Neighborhood\"] = toronto_df[\"Neighborhood\"].str.replace(\")\",\"\")\n",
    "toronto_df[\"Neighborhood\"] = toronto_df[\"Neighborhood\"].str.replace(\" / \",\", \")"
   ]
  },
  {
   "cell_type": "markdown",
   "metadata": {},
   "source": [
    "Reset the index"
   ]
  },
  {
   "cell_type": "code",
   "execution_count": 15,
   "metadata": {},
   "outputs": [],
   "source": [
    "toronto_df.reset_index(drop=True, inplace=True)"
   ]
  },
  {
   "cell_type": "code",
   "execution_count": 16,
   "metadata": {},
   "outputs": [
    {
     "data": {
      "text/plain": [
       "(103, 3)"
      ]
     },
     "execution_count": 16,
     "metadata": {},
     "output_type": "execute_result"
    }
   ],
   "source": [
    "toronto_df.shape"
   ]
  },
  {
   "cell_type": "markdown",
   "metadata": {},
   "source": [
    "Replacing neighborhoods that are not assigned with the name of the Borough"
   ]
  },
  {
   "cell_type": "code",
   "execution_count": 17,
   "metadata": {},
   "outputs": [
    {
     "name": "stdout",
     "output_type": "stream",
     "text": [
      "92    Downtown TorontoStn A PO Boxes25 The Esplanade\n",
      "Name: Borough, dtype: object\n",
      "Int64Index([92], dtype='int64')\n",
      "100    East TorontoBusiness reply mail Processing Cen...\n",
      "Name: Borough, dtype: object\n",
      "Int64Index([100], dtype='int64')\n"
     ]
    }
   ],
   "source": [
    "#toronto_df = toronto_df[toronto_df.PostalCode != \"M7Y\"]\n",
    "#toronto_df = toronto_df[toronto_df.PostalCode != \"M5W\"]\n",
    "\n",
    "print(toronto_df.Borough[toronto_df.PostalCode == \"M5W\"])\n",
    "print(toronto_df[toronto_df.PostalCode == \"M5W\"].index)\n",
    "\n",
    "print(toronto_df.Borough[toronto_df.PostalCode == \"M7Y\"])\n",
    "print(toronto_df[toronto_df.PostalCode == \"M7Y\"].index)\n",
    "\n"
   ]
  },
  {
   "cell_type": "code",
   "execution_count": 18,
   "metadata": {},
   "outputs": [],
   "source": [
    "toronto_df.iloc[92, toronto_df.columns.get_loc('Borough')] = 'Downtown Toronto'\n",
    "toronto_df.iloc[92, toronto_df.columns.get_loc('Neighborhood')] = 'Downtown Toronto'\n",
    "toronto_df.iloc[100, toronto_df.columns.get_loc('Borough')] = 'East Toronto'\n",
    "toronto_df.iloc[100, toronto_df.columns.get_loc('Neighborhood')] = 'East Toronto'"
   ]
  },
  {
   "cell_type": "code",
   "execution_count": 19,
   "metadata": {
    "scrolled": true
   },
   "outputs": [
    {
     "name": "stdout",
     "output_type": "stream",
     "text": [
      "92    Downtown Toronto\n",
      "Name: Borough, dtype: object\n",
      "Int64Index([92], dtype='int64')\n",
      "100    East Toronto\n",
      "Name: Borough, dtype: object\n",
      "Int64Index([100], dtype='int64')\n"
     ]
    }
   ],
   "source": [
    "print(toronto_df.Borough[toronto_df.PostalCode == \"M5W\"])\n",
    "print(toronto_df[toronto_df.PostalCode == \"M5W\"].index)\n",
    "\n",
    "print(toronto_df.Borough[toronto_df.PostalCode == \"M7Y\"])\n",
    "print(toronto_df[toronto_df.PostalCode == \"M7Y\"].index)"
   ]
  },
  {
   "cell_type": "markdown",
   "metadata": {},
   "source": [
    "exploring data to ensure it is ready for analysis"
   ]
  },
  {
   "cell_type": "code",
   "execution_count": 21,
   "metadata": {},
   "outputs": [
    {
     "data": {
      "text/html": [
       "<div>\n",
       "<style scoped>\n",
       "    .dataframe tbody tr th:only-of-type {\n",
       "        vertical-align: middle;\n",
       "    }\n",
       "\n",
       "    .dataframe tbody tr th {\n",
       "        vertical-align: top;\n",
       "    }\n",
       "\n",
       "    .dataframe thead th {\n",
       "        text-align: right;\n",
       "    }\n",
       "</style>\n",
       "<table border=\"1\" class=\"dataframe\">\n",
       "  <thead>\n",
       "    <tr style=\"text-align: right;\">\n",
       "      <th></th>\n",
       "      <th>PostalCode</th>\n",
       "      <th>Borough</th>\n",
       "      <th>Neighborhood</th>\n",
       "    </tr>\n",
       "  </thead>\n",
       "  <tbody>\n",
       "    <tr>\n",
       "      <th>0</th>\n",
       "      <td>M3A</td>\n",
       "      <td>North York</td>\n",
       "      <td>Parkwoods</td>\n",
       "    </tr>\n",
       "    <tr>\n",
       "      <th>1</th>\n",
       "      <td>M4A</td>\n",
       "      <td>North York</td>\n",
       "      <td>Victoria Village</td>\n",
       "    </tr>\n",
       "    <tr>\n",
       "      <th>2</th>\n",
       "      <td>M5A</td>\n",
       "      <td>Downtown Toronto</td>\n",
       "      <td>Regent Park, Harbourfront</td>\n",
       "    </tr>\n",
       "    <tr>\n",
       "      <th>3</th>\n",
       "      <td>M6A</td>\n",
       "      <td>North York</td>\n",
       "      <td>Lawrence Manor, Lawrence Heights</td>\n",
       "    </tr>\n",
       "    <tr>\n",
       "      <th>4</th>\n",
       "      <td>M7A</td>\n",
       "      <td>Queen's Park</td>\n",
       "      <td>Ontario Provincial Government</td>\n",
       "    </tr>\n",
       "  </tbody>\n",
       "</table>\n",
       "</div>"
      ],
      "text/plain": [
       "  PostalCode           Borough                      Neighborhood\n",
       "0        M3A        North York                         Parkwoods\n",
       "1        M4A        North York                  Victoria Village\n",
       "2        M5A  Downtown Toronto         Regent Park, Harbourfront\n",
       "3        M6A        North York  Lawrence Manor, Lawrence Heights\n",
       "4        M7A      Queen's Park     Ontario Provincial Government"
      ]
     },
     "execution_count": 21,
     "metadata": {},
     "output_type": "execute_result"
    }
   ],
   "source": [
    "toronto_df.head()"
   ]
  },
  {
   "cell_type": "code",
   "execution_count": 22,
   "metadata": {},
   "outputs": [
    {
     "data": {
      "text/html": [
       "<div>\n",
       "<style scoped>\n",
       "    .dataframe tbody tr th:only-of-type {\n",
       "        vertical-align: middle;\n",
       "    }\n",
       "\n",
       "    .dataframe tbody tr th {\n",
       "        vertical-align: top;\n",
       "    }\n",
       "\n",
       "    .dataframe thead th {\n",
       "        text-align: right;\n",
       "    }\n",
       "</style>\n",
       "<table border=\"1\" class=\"dataframe\">\n",
       "  <thead>\n",
       "    <tr style=\"text-align: right;\">\n",
       "      <th></th>\n",
       "      <th>PostalCode</th>\n",
       "      <th>Borough</th>\n",
       "      <th>Neighborhood</th>\n",
       "    </tr>\n",
       "  </thead>\n",
       "  <tbody>\n",
       "    <tr>\n",
       "      <th>98</th>\n",
       "      <td>M8X</td>\n",
       "      <td>Etobicoke</td>\n",
       "      <td>The Kingsway, Montgomery Road, Old Mill North</td>\n",
       "    </tr>\n",
       "    <tr>\n",
       "      <th>99</th>\n",
       "      <td>M4Y</td>\n",
       "      <td>Downtown Toronto</td>\n",
       "      <td>Church and Wellesley</td>\n",
       "    </tr>\n",
       "    <tr>\n",
       "      <th>100</th>\n",
       "      <td>M7Y</td>\n",
       "      <td>East Toronto</td>\n",
       "      <td>East Toronto</td>\n",
       "    </tr>\n",
       "    <tr>\n",
       "      <th>101</th>\n",
       "      <td>M8Y</td>\n",
       "      <td>Etobicoke</td>\n",
       "      <td>Old Mill South, King's Mill Park, Sunnylea, Hu...</td>\n",
       "    </tr>\n",
       "    <tr>\n",
       "      <th>102</th>\n",
       "      <td>M8Z</td>\n",
       "      <td>Etobicoke</td>\n",
       "      <td>Mimico NW, The Queensway West, South of Bloor,...</td>\n",
       "    </tr>\n",
       "  </tbody>\n",
       "</table>\n",
       "</div>"
      ],
      "text/plain": [
       "    PostalCode           Borough  \\\n",
       "98         M8X         Etobicoke   \n",
       "99         M4Y  Downtown Toronto   \n",
       "100        M7Y      East Toronto   \n",
       "101        M8Y         Etobicoke   \n",
       "102        M8Z         Etobicoke   \n",
       "\n",
       "                                          Neighborhood  \n",
       "98       The Kingsway, Montgomery Road, Old Mill North  \n",
       "99                                Church and Wellesley  \n",
       "100                                       East Toronto  \n",
       "101  Old Mill South, King's Mill Park, Sunnylea, Hu...  \n",
       "102  Mimico NW, The Queensway West, South of Bloor,...  "
      ]
     },
     "execution_count": 22,
     "metadata": {},
     "output_type": "execute_result"
    }
   ],
   "source": [
    "toronto_df.tail()"
   ]
  },
  {
   "cell_type": "code",
   "execution_count": 20,
   "metadata": {},
   "outputs": [
    {
     "data": {
      "text/plain": [
       "(103, 3)"
      ]
     },
     "execution_count": 20,
     "metadata": {},
     "output_type": "execute_result"
    }
   ],
   "source": [
    "toronto_df.shape"
   ]
  }
 ],
 "metadata": {
  "kernelspec": {
   "display_name": "Python 3",
   "language": "python",
   "name": "python3"
  },
  "language_info": {
   "codemirror_mode": {
    "name": "ipython",
    "version": 3
   },
   "file_extension": ".py",
   "mimetype": "text/x-python",
   "name": "python",
   "nbconvert_exporter": "python",
   "pygments_lexer": "ipython3",
   "version": "3.9.1"
  }
 },
 "nbformat": 4,
 "nbformat_minor": 1
}
